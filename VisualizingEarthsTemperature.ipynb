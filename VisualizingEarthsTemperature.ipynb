{
 "cells": [
  {
   "cell_type": "markdown",
   "metadata": {},
   "source": [
    "# 1. Introduction"
   ]
  },
  {
   "cell_type": "markdown",
   "metadata": {},
   "source": [
    "The data is from <a href='https://www.ncdc.noaa.gov/noaa-merged-land-ocean-global-surface-temperature-analysis-noaaglobaltemp-v5'> NOAA Merged Land Ocean Global Surface Temperature Analysis Dataset (NOAAGlobalTemp)</a>, which merges two dataset to form one land–ocean surface temperature analysis (formerly known as MLOST). NOAAGlobalTEmp consists of a spatially gridded (5°× 5°) global surface temperature dataset, with monthly resolution from January 1880 to present.\n",
    "\n",
    "The objectives of this project include:\n",
    "\n",
    "(a) Plot the anomaly time series of temperature history from 10 different cities in a given specific time frame;\n",
    "\n",
    "(b) Map the anomaly global temperature for a given point in time;\n",
    "\n",
    "(c) Map the anomaly global mean temperature.\n",
    "\n",
    "* All the temperature in this project is anomaly teperature."
   ]
  },
  {
   "cell_type": "markdown",
   "metadata": {},
   "source": [
    "# 2. Methods"
   ]
  },
  {
   "cell_type": "markdown",
   "metadata": {},
   "source": [
    "## 2.1 Data importing\n",
    "<p>The data imported include:</p>\n",
    "\n",
    "\n",
    "<p>a) <a href='https://www.ncei.noaa.gov/data/noaa-global-surface-temperature/v5/access/gridded/'>5°× 5°gridded data of anomaly temperature</a></p>\n",
    "\n",
    "<p>The dataset was downloaded in the format of netCDF. Module netCDF4 was used to open it.</p>\n",
    "\n",
    "<p>b) <a href='https://simplemaps.com/resources/free-country-cities'>city coordinates dataset including the longitudes and latitudes of cities</a></p>\n",
    "\n",
    "<p>The dataset contains latidutes, longitudes, population and other information of 15,492 major cities worldwide. Module pandas was used to read this csv file. Only the latidutes and longitudes of the first ten cities were used in this project.</p>\n",
    "\n",
    "## 2.2 Data preprocessing\n",
    "<p>At the very beginning, only the 5°× 5°gridded data of anomaly temperature was preprocessed, since its original data were in formats that could not be used by Basemap directly.</p>\n",
    "<p>Since later the global mean temperatures, including the ones by year and by month, were required to be plotted. The mean temperatures of each year and each month were supposed to be calculated. Due to missing values in the gridded dataset, numpy.nanmean was used to calculate mean values, which ignored missing values.</p>\n",
    "    \n",
    "## 2.3 Data visualization\n",
    "**2.3.1 Plot the time series of temperature history from 10 different cities in a given specific time frame**\n",
    "<p>With the latitudes and longitudes provided by the city coordinate dataset, the first 10 cities could be located on the 5°× 5°grid. And by inputing the start year, start month, end year, end month, a series of temperatures of these cities could be extracted from the gridded dataset. Using these data, the time series of temperature history could be plotted using matplotlib.pyplot. By constructing such a function taking city names and time frames as inputs, and further interacting it with ipython widgets, users could use drop down menus to select which city and time frame (between 1880.1 - 2020.2) they would like the plot to show.</p>\n",
    "    \n",
    "**2.3.2 Map the global temperature for a given point in time**\n",
    "<p>With the matplotlib Basemap module, a world map could be constructed and the 5°× 5°gridded data could be mapped on it. Still, the interactive widgets were connected to the plotting function, so users could use drop down menus to select a time point, including year and month between 1880.1 - 2020.2, and the plot would show the global temperature at that time on the map. The grids with missing temperature would not have color.</p>\n",
    "\n",
    "**2.3.3 Map the global mean temperature**\n",
    "<p>With the arrays storing mean temperatures obtained, functions plotting the mean temperatures of each grids were connected with interactive widgets. Hence, for annual mean temperature plots, users could use drop down menus to select a specific year between 1880 and 2020, and the function would plot the mean temperature of each grid in that year. Similarly, for monthly mean temperatures, users could select a specific month from Jan to Dec, and the function would plot the mean temperature of each grid in every year. </p>"
   ]
  },
  {
   "cell_type": "markdown",
   "metadata": {},
   "source": [
    "# 3. Implementation"
   ]
  },
  {
   "cell_type": "markdown",
   "metadata": {},
   "source": [
    "At the very beginning, import all modules used in this project."
   ]
  },
  {
   "cell_type": "code",
   "execution_count": 1,
   "metadata": {},
   "outputs": [],
   "source": [
    "import pandas as pd\n",
    "import matplotlib.pyplot as plt\n",
    "import numpy as np\n",
    "import ipywidgets as widgets\n",
    "from netCDF4 import Dataset\n",
    "import datetime\n",
    "from mpl_toolkits.basemap import Basemap\n",
    "pd.plotting.register_matplotlib_converters()\n",
    "%matplotlib inline"
   ]
  },
  {
   "cell_type": "markdown",
   "metadata": {},
   "source": [
    "## 3.1 Data importing"
   ]
  },
  {
   "cell_type": "markdown",
   "metadata": {},
   "source": [
    "The data imported include:\n"
   ]
  },
  {
   "cell_type": "markdown",
   "metadata": {},
   "source": [
    "a) gridded data of anomaly temperature"
   ]
  },
  {
   "cell_type": "code",
   "execution_count": 2,
   "metadata": {},
   "outputs": [
    {
     "name": "stdout",
     "output_type": "stream",
     "text": [
      "['time', (1682,)]\n",
      "['lat', (36,)]\n",
      "['lon', (72,)]\n",
      "['z', (1,)]\n",
      "['anom', (1682, 1, 36, 72)]\n"
     ]
    }
   ],
   "source": [
    "# the gridded tempreture (netCDF data)\n",
    "nc = Dataset('data\\\\NOAAGlobalTemp_v5.0.0_gridded_s188001_e202002_c20200308T133325.nc','r')\n",
    "\n",
    "# look through the heads and dimensions of dataset\n",
    "for i in nc.variables:\n",
    "    print([i, nc.variables[i].shape])"
   ]
  },
  {
   "cell_type": "code",
   "execution_count": 3,
   "metadata": {},
   "outputs": [],
   "source": [
    "time = nc.variables['time'][:]\n",
    "lat = nc.variables['lat'][:]\n",
    "lon = nc.variables['lon'][:]\n",
    "temp = nc.variables['anom'][:]\n",
    "nc.close()"
   ]
  },
  {
   "cell_type": "markdown",
   "metadata": {},
   "source": [
    "b) city coordinates dataset including the longitudes and latitudes of cities"
   ]
  },
  {
   "cell_type": "code",
   "execution_count": 4,
   "metadata": {},
   "outputs": [
    {
     "name": "stdout",
     "output_type": "stream",
     "text": [
      "          city      lat       lng\n",
      "0        Tokyo  35.6850  139.7514\n",
      "1     New York  40.6943  -73.9249\n",
      "2  Mexico City  19.4424  -99.1310\n",
      "3       Mumbai  19.0170   72.8570\n",
      "4    São Paulo -23.5587  -46.6250\n",
      "5        Delhi  28.6700   77.2300\n",
      "6     Shanghai  31.2165  121.4365\n",
      "7      Kolkata  22.4950   88.3247\n",
      "8  Los Angeles  34.1139 -118.4068\n",
      "9        Dhaka  23.7231   90.4086\n"
     ]
    }
   ],
   "source": [
    "# load the city coordinates data\n",
    "ct = pd.read_csv('data\\\\worldcities.csv')\n",
    "ct = ct.loc[:,['city', 'lat', 'lng']]\n",
    "\n",
    "# select the information of first 10 cities to use\n",
    "print(ct.head(10))\n",
    "ct.index = ct['city']"
   ]
  },
  {
   "cell_type": "markdown",
   "metadata": {},
   "source": [
    "## 3.2 Data preprocessing"
   ]
  },
  {
   "cell_type": "markdown",
   "metadata": {},
   "source": [
    "**3.2.1 time preprocessing**\n",
    "\n",
    "There are 1682 time points in the gridded dataset. Since the time points are monthly from Jan 1880 to present and the differences among them are always around 30 (as follows), we defined lists of years and months in regular calendar seperately from 1880.01 to 2020.02. These two lists also contain 1682 elements, which are the corresponding year and month of each month."
   ]
  },
  {
   "cell_type": "code",
   "execution_count": 5,
   "metadata": {},
   "outputs": [
    {
     "data": {
      "text/plain": [
       "masked_array(data=[29219., 29250., 29279., ..., 80322., 80353., 80384.],\n",
       "             mask=False,\n",
       "       fill_value=1e+20,\n",
       "            dtype=float32)"
      ]
     },
     "execution_count": 5,
     "metadata": {},
     "output_type": "execute_result"
    }
   ],
   "source": [
    "time"
   ]
  },
  {
   "cell_type": "code",
   "execution_count": 6,
   "metadata": {},
   "outputs": [],
   "source": [
    "# define the time in regular calendar\n",
    "# year\n",
    "year = []\n",
    "for i in range(1880, 2020):\n",
    "    for j in range(12):\n",
    "        year.append(i)\n",
    "year.append(2020)\n",
    "year.append(2020)\n",
    "\n",
    "# month\n",
    "month = [i for i in range(1,13)]*140\n",
    "month.append(1)\n",
    "month.append(2)"
   ]
  },
  {
   "cell_type": "markdown",
   "metadata": {},
   "source": [
    "**3.2.2 latitudes and longitudes preprocessing**\n",
    "\n",
    "First, checked the original latitudes and longtidues to see if they satisfies the coordinates used by Basemap. Since Basemap takes nothern latitudes (0 ~ 90) and eastern longitudes (0 ~ 180) as postive, and takes southern latitudes (0 ~ -90) and western longtitudes (0 ~ -180) as negative, the longitudes were subtracted by 180. And because later on, in order to use index to slice the data easily, these masked arrays were converted to lists.\n"
   ]
  },
  {
   "cell_type": "code",
   "execution_count": 7,
   "metadata": {},
   "outputs": [
    {
     "data": {
      "text/plain": [
       "masked_array(data=[-87.5, -82.5, -77.5, -72.5, -67.5, -62.5, -57.5, -52.5,\n",
       "                   -47.5, -42.5, -37.5, -32.5, -27.5, -22.5, -17.5, -12.5,\n",
       "                    -7.5,  -2.5,   2.5,   7.5,  12.5,  17.5,  22.5,  27.5,\n",
       "                    32.5,  37.5,  42.5,  47.5,  52.5,  57.5,  62.5,  67.5,\n",
       "                    72.5,  77.5,  82.5,  87.5],\n",
       "             mask=False,\n",
       "       fill_value=1e+20,\n",
       "            dtype=float32)"
      ]
     },
     "execution_count": 7,
     "metadata": {},
     "output_type": "execute_result"
    }
   ],
   "source": [
    "# Original coordinate data, latitudes\n",
    "lat"
   ]
  },
  {
   "cell_type": "code",
   "execution_count": 8,
   "metadata": {},
   "outputs": [
    {
     "data": {
      "text/plain": [
       "masked_array(data=[  2.5,   7.5,  12.5,  17.5,  22.5,  27.5,  32.5,  37.5,\n",
       "                    42.5,  47.5,  52.5,  57.5,  62.5,  67.5,  72.5,  77.5,\n",
       "                    82.5,  87.5,  92.5,  97.5, 102.5, 107.5, 112.5, 117.5,\n",
       "                   122.5, 127.5, 132.5, 137.5, 142.5, 147.5, 152.5, 157.5,\n",
       "                   162.5, 167.5, 172.5, 177.5, 182.5, 187.5, 192.5, 197.5,\n",
       "                   202.5, 207.5, 212.5, 217.5, 222.5, 227.5, 232.5, 237.5,\n",
       "                   242.5, 247.5, 252.5, 257.5, 262.5, 267.5, 272.5, 277.5,\n",
       "                   282.5, 287.5, 292.5, 297.5, 302.5, 307.5, 312.5, 317.5,\n",
       "                   322.5, 327.5, 332.5, 337.5, 342.5, 347.5, 352.5, 357.5],\n",
       "             mask=False,\n",
       "       fill_value=1e+20,\n",
       "            dtype=float32)"
      ]
     },
     "execution_count": 8,
     "metadata": {},
     "output_type": "execute_result"
    }
   ],
   "source": [
    "# Original coordinate data, longitudes\n",
    "lon"
   ]
  },
  {
   "cell_type": "code",
   "execution_count": 9,
   "metadata": {},
   "outputs": [],
   "source": [
    "# preprocessing the longitude \n",
    "lon = list(lon-180)\n",
    "lat = list(lat)"
   ]
  },
  {
   "cell_type": "markdown",
   "metadata": {},
   "source": [
    "**3.2.3 anomaly temperature preprocessing**\n",
    "\n",
    "Originally, temp was the anomaly temprature from gridded dataset, which is a 1682×1×36×72 masked array. Whan mask = True, the corresponding data is missing or invalid. For example, the first element of the first dimension is as follows. Whenever there is a 'True' is the mask, there is a '--' (missing value) in the data."
   ]
  },
  {
   "cell_type": "code",
   "execution_count": 10,
   "metadata": {},
   "outputs": [
    {
     "data": {
      "text/plain": [
       "masked_array(\n",
       "  data=[[--, --, --, ..., --, --, --],\n",
       "        [--, --, --, ..., --, --, --],\n",
       "        [--, --, --, ..., --, --, --],\n",
       "        ...,\n",
       "        [--, --, -0.31496092677116394, ..., --, --, --],\n",
       "        [--, --, --, ..., --, --, --],\n",
       "        [--, --, --, ..., --, --, --]],\n",
       "  mask=[[ True,  True,  True, ...,  True,  True,  True],\n",
       "        [ True,  True,  True, ...,  True,  True,  True],\n",
       "        [ True,  True,  True, ...,  True,  True,  True],\n",
       "        ...,\n",
       "        [ True,  True, False, ...,  True,  True,  True],\n",
       "        [ True,  True,  True, ...,  True,  True,  True],\n",
       "        [ True,  True,  True, ...,  True,  True,  True]],\n",
       "  fill_value=-999.9,\n",
       "  dtype=float32)"
      ]
     },
     "execution_count": 10,
     "metadata": {},
     "output_type": "execute_result"
    }
   ],
   "source": [
    "temp[0,0,:,:]"
   ]
  },
  {
   "cell_type": "markdown",
   "metadata": {},
   "source": [
    "## 3.3 Data visualization\n",
    "\n",
    "**3.3.1 Plot the time series of temperature history from 10 different cities in a given specific time frame**\n",
    "\n",
    "First, built a function that takes the city names and time frames as inputs. Then, connected the function with ipython widgets to make a drop down choice for users."
   ]
  },
  {
   "cell_type": "code",
   "execution_count": 11,
   "metadata": {},
   "outputs": [],
   "source": [
    "def tsplot(start_year, start_month, end_year, end_month, city):\n",
    "    '''\n",
    "    This function generate the time series plot for a specific city in a time period.\n",
    "    start_year: the number of year that starts the time frame. e.g. 1880\n",
    "    start_month: the number of month that starts the time frame. e.g. 1\n",
    "    end_year: the number of year that ends the time frame. e.g. 2020\n",
    "    end_month:the number of month that ends the time frame. e.g. 02\n",
    "    city: the name string of the city. e.g. 'Los Angeles'\n",
    "    \n",
    "    '''\n",
    "    # get the index of the time range\n",
    "    startind = (start_year - 1880)*12 + start_month - 1    \n",
    "    endind = (end_year - 1880)*12 + end_month \n",
    "    \n",
    "    # find the 5x5 grid the city locates\n",
    "    city_lat = ct.loc[city, \"lat\"]\n",
    "    formerlatind = max([lat.index(i) for i in lat if i < city_lat])\n",
    "    if (city_lat - lat[formerlatind]) <= 2.5:\n",
    "        lat_index = formerlatind\n",
    "    else:\n",
    "        lat_index = formerlatind + 1\n",
    "    \n",
    "    city_lon = ct.loc[city, \"lng\"]\n",
    "    formerlonind = max([lon.index(i) for i in lon if i < city_lon])\n",
    "    if abs(city_lon - lon[formerlonind]) <= 2.5:\n",
    "        lon_index = formerlonind\n",
    "    else:\n",
    "        lon_index = formerlonind + 1\n",
    "       \n",
    "    plt.figure(figsize = (10,5)) \n",
    "    x = [datetime.datetime.strptime(str(year[i])+str(month[i]), '%Y%m').date() for i in range(startind, endind)]\n",
    "    y = temp[startind:endind, 0, lat_index, lon_index]\n",
    "    plt.title('Time series of {} from {}.{} to {}.{}'.format(city, start_year, start_month, end_year, end_month), fontsize=20)\n",
    "    plt.xlabel('Time', fontsize = 15)\n",
    "    plt.ylabel('Temperature ℃', fontsize = 15)\n",
    "    plt.xticks(rotation=90, fontsize = 15)\n",
    "    plt.plot(x, y)\n",
    "\n",
    "\n",
    "dropstart_year = widgets.Dropdown(options=[i for i in range(1880, 2021)],value=1880,description='Start year:')\n",
    "dropstart_month = widgets.Dropdown(options=[i for i in range(1, 13)],value=1,description='Start month:')\n",
    "dropend_year = widgets.Dropdown(options=[i for i in range(1880, 2021)],value=2020,description='End year:')\n",
    "dropend_month = widgets.Dropdown(options=[i for i in range(1, 13)],value=2,description='End month:')\n",
    "dropcity = widgets.Dropdown(options=[i for i in ct.iloc[:10, 0]], value='Los Angeles',description='City')\n",
    "\n",
    "timeseriesplot = widgets.interactive(tsplot, {'manual': True}, city=dropcity, start_year=dropstart_year, start_month=dropstart_month, end_year=dropend_year, end_month=dropend_month)"
   ]
  },
  {
   "cell_type": "markdown",
   "metadata": {},
   "source": [
    "**3.3.2 Map the global temperature for a given point in time**\n",
    "\n",
    "First, built a function that takes the time point (year and month) as inputs, and uses matplotlib Basemap to map the global temperatures at that time point on the world map. Then, connected the function with ipython widgets to make a drop down choice for users."
   ]
  },
  {
   "cell_type": "code",
   "execution_count": 12,
   "metadata": {},
   "outputs": [],
   "source": [
    "def globaltemp(Y, M):\n",
    "    '''\n",
    "    This function maps the world temperature on the world map at a specific time point, year and month.\n",
    "    Y: the year\n",
    "    M: the month\n",
    "    '''\n",
    "    \n",
    "    # build the world map\n",
    "    plt.figure(figsize=(20,20))\n",
    "    mp = Basemap()\n",
    "\n",
    "    lons, lats = np.meshgrid(lon, lat)\n",
    "    x, y = mp(lons, lats)\n",
    "    \n",
    "    # the index of the time point in the gridded dataset\n",
    "    num = year.index(Y) + M - 1\n",
    "    \n",
    "    # map the data on the world map\n",
    "    c_scheme = mp.pcolor(x, y, np.squeeze(temp[num,:,:]), cmap = 'jet')\n",
    "\n",
    "    mp.drawcoastlines()\n",
    "    mp.colorbar(c_scheme, location = 'right', pad = '10%')\n",
    "    plt.title('Global Temperature Map of {} - {} (℃)'.format(Y, M), fontsize=30)\n",
    "    plt.show()\n",
    "\n",
    "# the dropdown interactive widgets\n",
    "dropyear = widgets.Dropdown(options=[i for i in range(1880, 2021)],value=1880,description='Year:')\n",
    "dropmonth = widgets.Dropdown(options=[i for i in range(1, 13)],value=1,description='Month:')\n",
    "\n",
    "# connect the function and ipython widgets together\n",
    "globaltempplot = widgets.interactive(globaltemp, {'manual': True}, Y = dropyear, M = dropmonth)"
   ]
  },
  {
   "cell_type": "markdown",
   "metadata": {},
   "source": [
    "**3.3.3 Plot the global mean temperature**\n",
    "\n",
    "**a) Map the annual global mean temperature**\n",
    "\n",
    "First, built a 141×36×72 array called annuallytemp to store the annual mean tempratures of each grids in a 141 year range."
   ]
  },
  {
   "cell_type": "code",
   "execution_count": 29,
   "metadata": {},
   "outputs": [],
   "source": [
    "# annually\n",
    "annuallytemp = np.zeros(((2020-1880+1), 36, 72))\n",
    "\n",
    "for i in range(1682):\n",
    "    monthi = i%12\n",
    "    if i <= 1680:\n",
    "        if monthi == 11:\n",
    "            yeari = int((i - monthi)/12)\n",
    "            annuallytemp[yeari,:,:] = np.nanmean(temp[(i-11):(i+1),0,:,:], axis = 0) # ignore the missing values\n",
    "    else:\n",
    "        if monthi == 1:\n",
    "            annuallytemp[(2020-1880),:,:] = np.nanmean(temp[(i-1):(i+1),0,:,:], axis = 0)"
   ]
  },
  {
   "cell_type": "markdown",
   "metadata": {},
   "source": [
    "Then, built a function ploting the annual global mean temperatures and connected it with interactive widgets."
   ]
  },
  {
   "cell_type": "code",
   "execution_count": 77,
   "metadata": {
    "scrolled": true
   },
   "outputs": [],
   "source": [
    "def annually(Y):\n",
    "    '''\n",
    "    This function maps the annually world temperature on the world map\n",
    "    Y: the year\n",
    "    '''\n",
    "    plt.figure(figsize=(20,20))\n",
    "    mpannual = Basemap()\n",
    "\n",
    "    lons, lats = np.meshgrid(lon, lat)\n",
    "    x, y = mpannual(lons, lats)\n",
    "    \n",
    "    c_scheme = mpannual.pcolor(x, y, np.squeeze(annuallytemp[(Y-1880),:,:]), cmap = 'jet')\n",
    "\n",
    "    mpannual.drawcoastlines()\n",
    "    mpannual.colorbar(c_scheme, location = 'right', pad = '10%')\n",
    "    plt.title('Annually Global Temperature Map of {} (℃)'.format(Y), fontsize=30)\n",
    "    plt.show()\n",
    "\n",
    "dropyear = widgets.Dropdown(options=[i for i in range(1880, 2021)],value=1880,description='Year:')\n",
    "\n",
    "annualavgplot = widgets.interactive(annually, Y = dropyear)\n"
   ]
  },
  {
   "cell_type": "markdown",
   "metadata": {},
   "source": [
    "**b) Map the monthly global mean temperature**\n",
    "\n",
    "First, built a 12×36×72 array called monthlytemp to store the month mean tempratures of each grids in a 12 month range."
   ]
  },
  {
   "cell_type": "code",
   "execution_count": 78,
   "metadata": {},
   "outputs": [],
   "source": [
    "# monthly global mean temperature\n",
    "monthlytemp = np.zeros((12, 36, 72))\n",
    "\n",
    "for i in range(12):\n",
    "    monthlist = [k for k in range(i, 1682, 12)]\n",
    "    monthlytemp[i,:,:] = np.nanmean(temp[monthlist,:,:], axis = 0) # ignore missing values"
   ]
  },
  {
   "cell_type": "markdown",
   "metadata": {},
   "source": [
    "Then, built a function ploting the monthly global mean temperatures and connected it with interactive widgets."
   ]
  },
  {
   "cell_type": "code",
   "execution_count": 79,
   "metadata": {
    "scrolled": true
   },
   "outputs": [],
   "source": [
    "monthNames = [\"January\", \"February\", \"March\", \"April\", \"May\", \"June\", \"July\", \"August\", \"September\", \"October\", \"November\", \"December\"]\n",
    "    \n",
    "def monthly(M):\n",
    "    '''\n",
    "    This function maps the monthly world temperature on the world map\n",
    "    M: the month\n",
    "    '''\n",
    "    plt.figure(figsize=(20,20))\n",
    "    mpmonth = Basemap()\n",
    "\n",
    "    lons, lats = np.meshgrid(lon, lat)\n",
    "    x, y = mpmonth(lons, lats)\n",
    "    \n",
    "    monthind = monthNames.index(M)\n",
    "    c_scheme = mpmonth.pcolor(x, y, np.squeeze(monthlytemp[monthind,:,:]), cmap = 'jet')\n",
    "\n",
    "    mpmonth.drawcoastlines()\n",
    "    mpmonth.colorbar(c_scheme, location = 'right', pad = '10%')\n",
    "    plt.title('Monthly Global Temperature Map of {} (℃)'.format(M), fontsize=30)\n",
    "    plt.show()\n",
    "\n",
    "dropmonth = widgets.Dropdown(options=monthNames,value=\"January\",description='Month:')\n",
    "\n",
    "monthavgplot = widgets.interactive(monthly, M = dropmonth)"
   ]
  },
  {
   "cell_type": "markdown",
   "metadata": {},
   "source": [
    "# 4. Testing"
   ]
  },
  {
   "cell_type": "markdown",
   "metadata": {},
   "source": [
    "## 4.1 Data preprocessing\n",
    "\n",
    "First, check if the lists of year and month provide correct values corresponding every month from 1880.1 to 2020.2. It's correct."
   ]
  },
  {
   "cell_type": "code",
   "execution_count": 80,
   "metadata": {},
   "outputs": [
    {
     "name": "stdout",
     "output_type": "stream",
     "text": [
      "The first 20 elements of year:  [1880, 1880, 1880, 1880, 1880, 1880, 1880, 1880, 1880, 1880, 1880, 1880, 1881, 1881, 1881, 1881, 1881, 1881, 1881, 1881] \n",
      "\n",
      "The last 20 elements of year:  [2018, 2018, 2018, 2018, 2018, 2018, 2019, 2019, 2019, 2019, 2019, 2019, 2019, 2019, 2019, 2019, 2019, 2019, 2020, 2020] \n",
      "\n",
      "The first 20 elements of month:  [1, 2, 3, 4, 5, 6, 7, 8, 9, 10, 11, 12, 1, 2, 3, 4, 5, 6, 7, 8] \n",
      "\n",
      "The last 20 elements of month:  [7, 8, 9, 10, 11, 12, 1, 2, 3, 4, 5, 6, 7, 8, 9, 10, 11, 12, 1, 2]\n"
     ]
    }
   ],
   "source": [
    "print(\"The first 20 elements of year: \", year[:20], \"\\n\")\n",
    "print(\"The last 20 elements of year: \", year[-20:], \"\\n\")\n",
    "print(\"The first 20 elements of month: \", month[:20],\"\\n\")\n",
    "print(\"The last 20 elements of month: \", month[-20:])"
   ]
  },
  {
   "cell_type": "markdown",
   "metadata": {},
   "source": [
    "Second, check if the coordinate data satisfy the range of Basemap: latitude from -90 to 90, longitude from -180 to 180. And check if they construct 5°× 5°grids (The differences between adjacent numbers are always 5). It's correct."
   ]
  },
  {
   "cell_type": "code",
   "execution_count": 81,
   "metadata": {},
   "outputs": [
    {
     "name": "stdout",
     "output_type": "stream",
     "text": [
      "the latitude data are: \n",
      " [-87.5, -82.5, -77.5, -72.5, -67.5, -62.5, -57.5, -52.5, -47.5, -42.5, -37.5, -32.5, -27.5, -22.5, -17.5, -12.5, -7.5, -2.5, 2.5, 7.5, 12.5, 17.5, 22.5, 27.5, 32.5, 37.5, 42.5, 47.5, 52.5, 57.5, 62.5, 67.5, 72.5, 77.5, 82.5, 87.5] \n",
      "\n",
      "the longitude data are: \n",
      " [-177.5, -172.5, -167.5, -162.5, -157.5, -152.5, -147.5, -142.5, -137.5, -132.5, -127.5, -122.5, -117.5, -112.5, -107.5, -102.5, -97.5, -92.5, -87.5, -82.5, -77.5, -72.5, -67.5, -62.5, -57.5, -52.5, -47.5, -42.5, -37.5, -32.5, -27.5, -22.5, -17.5, -12.5, -7.5, -2.5, 2.5, 7.5, 12.5, 17.5, 22.5, 27.5, 32.5, 37.5, 42.5, 47.5, 52.5, 57.5, 62.5, 67.5, 72.5, 77.5, 82.5, 87.5, 92.5, 97.5, 102.5, 107.5, 112.5, 117.5, 122.5, 127.5, 132.5, 137.5, 142.5, 147.5, 152.5, 157.5, 162.5, 167.5, 172.5, 177.5]\n"
     ]
    }
   ],
   "source": [
    "print(\"the latitude data are: \\n\", lat, \"\\n\")\n",
    "print(\"the longitude data are: \\n\", lon)"
   ]
  },
  {
   "cell_type": "markdown",
   "metadata": {},
   "source": [
    "## 4.2 Mean temperature calculation\n",
    "\n",
    "First, check the annual mean temperature. The shape is 141×36×72, correct. Then take the year 1880 as an example, to see if the mean teperature of grid (12.5,-77.5) (index (20, 20), without missing value) and the mean temprature of grid (-52.5, -72.5) (index (7, 21), with missing values) are the same as that calculated directly. They are correct."
   ]
  },
  {
   "cell_type": "code",
   "execution_count": 82,
   "metadata": {},
   "outputs": [
    {
     "name": "stdout",
     "output_type": "stream",
     "text": [
      "(141, 36, 72)\n"
     ]
    }
   ],
   "source": [
    "print(annuallytemp.shape)\n",
    "assert np.nanmean(temp[:12, 0, 20, 20]) - annuallytemp[0,20,20] < 1e-14\n",
    "assert np.nanmean(temp[:12, 0, 7, 21]) - annuallytemp[0,7,21] < 1e-14"
   ]
  },
  {
   "cell_type": "markdown",
   "metadata": {},
   "source": [
    "Second, check the monthly mean temperature. The shape is 12×36×72, correct. Then take the month Jan as an example, to see if the mean teperature of grid (12.5,-77.5) (index (20, 20), without missing value) and the mean temprature of grid (-52.5, -72.5) (index (7, 21), with missing values) are the same as that calculated directly. They are correct."
   ]
  },
  {
   "cell_type": "code",
   "execution_count": 83,
   "metadata": {},
   "outputs": [
    {
     "name": "stdout",
     "output_type": "stream",
     "text": [
      "(12, 36, 72)\n"
     ]
    }
   ],
   "source": [
    "print(monthlytemp.shape)\n",
    "Jan = [i for i in range(0, 1682, 12)]\n",
    "assert np.nanmean(temp[Jan, 0, 20, 20]) - monthlytemp[0,20,20] < 1e-14\n",
    "assert np.nanmean(temp[Jan, 0, 7, 21]) - monthlytemp[0,7,21] < 1e-14"
   ]
  },
  {
   "cell_type": "markdown",
   "metadata": {},
   "source": [
    "# 5. Results\n",
    "\n",
    "Since there is no problem in the testing of data, three required plots were plotted.\n",
    "\n",
    "P.S. The plots are only shown in Jupyter notebook."
   ]
  },
  {
   "cell_type": "markdown",
   "metadata": {},
   "source": [
    "## 5.1 Plot the time series of temperature history from 10 different cities in a given specific time frame"
   ]
  },
  {
   "cell_type": "code",
   "execution_count": 85,
   "metadata": {},
   "outputs": [
    {
     "data": {
      "application/vnd.jupyter.widget-view+json": {
       "model_id": "5ff0c8ae392446769f0b63cddf199d63",
       "version_major": 2,
       "version_minor": 0
      },
      "text/plain": [
       "interactive(children=(Dropdown(description='Start year:', index=3, options=(1880, 1881, 1882, 1883, 1884, 1885…"
      ]
     },
     "metadata": {},
     "output_type": "display_data"
    }
   ],
   "source": [
    "timeseriesplot"
   ]
  },
  {
   "cell_type": "markdown",
   "metadata": {},
   "source": [
    "## 5.2 Map the global temperature for a given point in time"
   ]
  },
  {
   "cell_type": "code",
   "execution_count": 86,
   "metadata": {},
   "outputs": [
    {
     "data": {
      "application/vnd.jupyter.widget-view+json": {
       "model_id": "c1bddddc64f5454792300fcd8dad3b52",
       "version_major": 2,
       "version_minor": 0
      },
      "text/plain": [
       "interactive(children=(Dropdown(description='Year:', options=(1880, 1881, 1882, 1883, 1884, 1885, 1886, 1887, 1…"
      ]
     },
     "metadata": {},
     "output_type": "display_data"
    }
   ],
   "source": [
    "globaltempplot"
   ]
  },
  {
   "cell_type": "markdown",
   "metadata": {},
   "source": [
    "## 5.3 Plot the global mean temperature\n",
    "\n",
    "**a) Map the annual global mean temperature**"
   ]
  },
  {
   "cell_type": "code",
   "execution_count": 87,
   "metadata": {},
   "outputs": [
    {
     "data": {
      "application/vnd.jupyter.widget-view+json": {
       "model_id": "62b18d9be3624edfa89b39d9e594fb5a",
       "version_major": 2,
       "version_minor": 0
      },
      "text/plain": [
       "interactive(children=(Dropdown(description='Year:', options=(1880, 1881, 1882, 1883, 1884, 1885, 1886, 1887, 1…"
      ]
     },
     "metadata": {},
     "output_type": "display_data"
    }
   ],
   "source": [
    "annualavgplot"
   ]
  },
  {
   "cell_type": "markdown",
   "metadata": {},
   "source": [
    "**b) Map the monthly global mean temperature**"
   ]
  },
  {
   "cell_type": "code",
   "execution_count": 88,
   "metadata": {},
   "outputs": [
    {
     "data": {
      "application/vnd.jupyter.widget-view+json": {
       "model_id": "6580cf1c667f40b8bdad1c1ab44bddb1",
       "version_major": 2,
       "version_minor": 0
      },
      "text/plain": [
       "interactive(children=(Dropdown(description='Month:', options=('January', 'February', 'March', 'April', 'May', …"
      ]
     },
     "metadata": {},
     "output_type": "display_data"
    }
   ],
   "source": [
    "monthavgplot"
   ]
  }
 ],
 "metadata": {
  "kernelspec": {
   "display_name": "Python 3",
   "language": "python",
   "name": "python3"
  },
  "language_info": {
   "codemirror_mode": {
    "name": "ipython",
    "version": 3
   },
   "file_extension": ".py",
   "mimetype": "text/x-python",
   "name": "python",
   "nbconvert_exporter": "python",
   "pygments_lexer": "ipython3",
   "version": "3.7.4"
  }
 },
 "nbformat": 4,
 "nbformat_minor": 2
}
